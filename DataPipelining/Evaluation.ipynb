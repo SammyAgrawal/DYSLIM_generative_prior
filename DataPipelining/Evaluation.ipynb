{
 "cells": [
  {
   "cell_type": "markdown",
   "id": "c10df669-7852-46e5-95d1-5d43796e18d4",
   "metadata": {},
   "source": [
    "replicate https://leap-stc.github.io/ClimSim/evaluation/main_figure_generation.html\n",
    "\n",
    "\n",
    "https://github.com/leap-stc/ClimSim/blob/main/preprocessing/create_npy_data_splits.ipynb"
   ]
  },
  {
   "cell_type": "markdown",
   "id": "10dee58a-b8c1-4237-bdd5-2ba2e95d5bdc",
   "metadata": {},
   "source": [
    "### Generate Predictions using Trained Models"
   ]
  },
  {
   "cell_type": "code",
   "execution_count": 1,
   "id": "4f81ee47-8eb7-4ab0-bb0c-a5ce1c0ad2d9",
   "metadata": {},
   "outputs": [],
   "source": [
    "import torch\n",
    "import numpy as np\n",
    "import os\n",
    "import xarray as xr\n",
    "import matplotlib.pyplot as plt\n",
    "import gcsfs\n",
    "fs = gcsfs.GCSFileSystem()"
   ]
  },
  {
   "cell_type": "code",
   "execution_count": 2,
   "id": "0d64aecf-36b6-43c1-a359-0156211ba14b",
   "metadata": {},
   "outputs": [],
   "source": [
    "# to test\n",
    "user_path = \"gs://leap-scratch/sammyagrawal\"\n",
    "with fs.open(os.path.join(user_path, \"input_climsim.npy\"), 'rb') as f:\n",
    "    x_npy = np.load(f)\n",
    "with fs.open(os.path.join(user_path, \"output_climsim.npy\"), 'rb') as f:\n",
    "    y_npy = np.load(f)"
   ]
  },
  {
   "cell_type": "code",
   "execution_count": 3,
   "id": "504adc3c-a74d-423f-b003-566ec39bb514",
   "metadata": {},
   "outputs": [
    {
     "data": {
      "text/plain": [
       "((1121280, 124), (1121280, 128))"
      ]
     },
     "execution_count": 3,
     "metadata": {},
     "output_type": "execute_result"
    }
   ],
   "source": [
    "x_npy.shape, y_npy.shape"
   ]
  },
  {
   "cell_type": "code",
   "execution_count": 12,
   "id": "46fa88cf-1c0e-4848-957e-57e3b967106f",
   "metadata": {},
   "outputs": [],
   "source": [
    "n_samples = 384*30\n",
    "x_test, y_test = x_npy[:n_samples], y_npy[:n_samples]"
   ]
  },
  {
   "cell_type": "code",
   "execution_count": 16,
   "id": "a1394657-b886-4478-9a57-fe2611ab4510",
   "metadata": {},
   "outputs": [],
   "source": [
    "y_pred1 = y_test + 0.001*np.random.randn(n_samples,128)\n",
    "y_pred2 = y_pred1 + 0.4*np.random.randn(n_samples,128)"
   ]
  },
  {
   "cell_type": "code",
   "execution_count": 18,
   "id": "b7ad5885-7b3b-45fd-be9b-736f44b3552a",
   "metadata": {},
   "outputs": [
    {
     "data": {
      "text/plain": [
       "((11520, 124), (11520, 128), (11520, 128))"
      ]
     },
     "execution_count": 18,
     "metadata": {},
     "output_type": "execute_result"
    }
   ],
   "source": [
    "x_test.shape, y_test.shape, y_pred1.shape"
   ]
  },
  {
   "cell_type": "markdown",
   "id": "6711f8fc-387c-4c49-9b15-f82c5a5b2c84",
   "metadata": {},
   "source": [
    "### Comparing norms to saved"
   ]
  },
  {
   "cell_type": "code",
   "execution_count": 78,
   "id": "169fc2b8-281a-4633-ae4a-49d77180b19b",
   "metadata": {},
   "outputs": [],
   "source": [
    "from climsim_data_utils import data_utils, load_vars"
   ]
  },
  {
   "cell_type": "code",
   "execution_count": 79,
   "id": "40fe0aa0-0f97-4cd9-a2d8-19b51b8cb051",
   "metadata": {},
   "outputs": [],
   "source": [
    "mapper = fs.get_mapper(\"gs://leap-persistent-ro/sungdukyu/E3SM-MMF_ne4.grid-info.zarr\")\n",
    "grid_info = xr.open_dataset(mapper, engine='zarr')\n",
    "\n",
    "dutils = data_utils(grid_info=grid_info)"
   ]
  },
  {
   "cell_type": "code",
   "execution_count": 81,
   "id": "3fb5e92d-a55b-46c8-9073-58b951983fff",
   "metadata": {},
   "outputs": [],
   "source": [
    "def reconstruct_np(X_norm, Y_norm, data_vars='v1'):\n",
    "    inputs, outputs = load_vars(data_vars)\n",
    "    input_mean = xr.open_dataset('Climsim_info/input_mean.nc')[inputs].to_stacked_array('mlvar', sample_dims='').values\n",
    "    input_max = xr.open_dataset('Climsim_info/input_max.nc')[inputs].to_stacked_array('mlvar', sample_dims='').values\n",
    "    input_min = xr.open_dataset('Climsim_info/input_min.nc')[inputs].to_stacked_array('mlvar', sample_dims='').values\n",
    "    output_scale = xr.open_dataset('Climsim_info/output_scale.nc')[inputs].to_stacked_array('mlvar', sample_dims='').values\n",
    "\n",
    "    X = X_norm*(input_max - input_min) + input_mean\n",
    "    Y = Y_norm / output_scale\n",
    "    return(X,Y)"
   ]
  },
  {
   "cell_type": "code",
   "execution_count": 59,
   "id": "475dedd7-5427-4fcc-a3cd-e1a1152075d4",
   "metadata": {},
   "outputs": [
    {
     "data": {
      "text/plain": [
       "(124,)"
      ]
     },
     "execution_count": 59,
     "metadata": {},
     "output_type": "execute_result"
    }
   ],
   "source": [
    "x_avg = x_npy.mean(axis=0)\n",
    "x_avg.shape"
   ]
  },
  {
   "cell_type": "code",
   "execution_count": 60,
   "id": "93f38442-c5b1-4b16-a54f-6648728f9e60",
   "metadata": {},
   "outputs": [],
   "source": [
    "x_norm = xr.open_dataset(\"Climsim_info/input_mean.nc\")"
   ]
  },
  {
   "cell_type": "code",
   "execution_count": 64,
   "id": "ba22f126-58d6-4390-92e7-04e737293a9f",
   "metadata": {},
   "outputs": [],
   "source": [
    "x_norm_v1 = x_norm[dutils.v1_inputs].to_stacked_array('mlvar', sample_dims='').values"
   ]
  },
  {
   "cell_type": "code",
   "execution_count": 75,
   "id": "d821b5d5-2fa7-492a-bd3b-f7f181d002d2",
   "metadata": {},
   "outputs": [
    {
     "data": {
      "text/plain": [
       "array([-2.56817731e-02,  4.18193672e-02,  9.98839433e-03,  6.54797630e-05,\n",
       "        2.16402490e-03, -2.84236218e-03, -7.80040626e-03, -7.79458220e-04,\n",
       "        6.23871345e-03,  5.40563035e-03,  2.17198329e-03,  3.37880128e-04,\n",
       "       -5.97191006e-04, -9.69804839e-04,  5.85265309e-04,  1.21450536e-03,\n",
       "       -3.11999986e-03, -3.44376894e-03,  5.46327227e-03,  7.97039341e-03,\n",
       "        6.71671362e-03,  5.06742930e-03,  2.17408058e-03, -1.35648329e-03,\n",
       "       -4.15770949e-03, -6.98711656e-03, -9.16070289e-03, -1.06326176e-02,\n",
       "       -1.12655234e-02, -1.12312231e-02, -1.09699861e-02, -1.07240824e-02,\n",
       "       -1.05749213e-02, -1.01690826e-02, -9.24284257e-03, -7.57338261e-03,\n",
       "       -5.09230842e-03, -2.87782532e-03, -1.14609395e-03,  4.11092162e-04,\n",
       "        1.60435950e-03,  2.65040335e-03,  3.15641661e-03,  3.28444663e-03,\n",
       "        3.01585356e-03,  2.99826758e-03,  4.39359316e-03,  7.46977212e-03,\n",
       "        1.22814718e-02,  1.88928090e-02,  2.60559371e-02,  3.35944514e-02,\n",
       "        4.12411248e-02,  4.88343671e-02,  5.67487132e-02,  6.51114215e-02,\n",
       "        7.47277782e-02,  8.88449405e-02,  1.20719304e-01,  1.85125602e-01,\n",
       "        5.36977026e-12,  1.02779206e-11,  8.50365391e-12, -1.20511031e-11,\n",
       "       -1.57830293e-11, -1.08190643e-11, -2.00207706e-12,  2.25097865e-11,\n",
       "        4.64548836e-11,  7.66090327e-11,  6.54982755e-11,  5.61728847e-11,\n",
       "        2.24260756e-10,  3.84834108e-10,  4.03975706e-10, -5.93224029e-10,\n",
       "       -3.27898171e-09, -2.13204211e-09, -2.08103868e-09, -8.87269848e-09,\n",
       "       -2.41279802e-08, -4.87383209e-08, -8.75624045e-08, -1.51525816e-07,\n",
       "       -2.50080905e-07, -3.30640824e-07, -3.38508492e-07, -2.98783237e-07,\n",
       "       -2.30130482e-07, -1.62281987e-07, -1.34498812e-07, -9.98691509e-08,\n",
       "       -1.77027016e-07, -3.07972246e-07, -2.31624055e-07, -8.58392404e-08,\n",
       "       -3.89670509e-08, -8.43145370e-08, -2.08847955e-07, -2.79557826e-07,\n",
       "       -1.49350141e-07,  1.89083789e-07,  9.16658516e-07,  2.64990071e-06,\n",
       "        5.28319524e-06,  8.27728910e-06,  1.10829810e-05,  1.31083111e-05,\n",
       "        1.31326583e-05,  1.09413831e-05,  7.94733818e-06,  4.22025580e-06,\n",
       "       -2.83179103e-07, -4.92688329e-06, -9.17105701e-06, -1.20241559e-05,\n",
       "       -1.29386802e-05, -1.23496001e-05, -1.75275400e-05, -2.49710149e-05,\n",
       "       -1.52680283e-01,  1.53722941e+00,  7.25734637e-01,  1.05972532e+01])"
      ]
     },
     "execution_count": 75,
     "metadata": {},
     "output_type": "execute_result"
    }
   ],
   "source": [
    "(x_avg -x_norm_v1)"
   ]
  },
  {
   "cell_type": "code",
   "execution_count": 69,
   "id": "91bf2391-6d18-49e5-b741-d821ff6c41eb",
   "metadata": {},
   "outputs": [
    {
     "data": {
      "text/plain": [
       "<matplotlib.collections.PathCollection at 0x7cdea7358810>"
      ]
     },
     "execution_count": 69,
     "metadata": {},
     "output_type": "execute_result"
    },
    {
     "data": {
      "image/png": "[encoded data removed]",
      "text/plain": [
       "<Figure size 640x480 with 1 Axes>"
      ]
     },
     "metadata": {},
     "output_type": "display_data"
    }
   ],
   "source": [
    "plt.scatter(np.arange(60), x_norm_v1[:60])\n",
    "plt.scatter(np.arange(60), x_avg[:60])"
   ]
  },
  {
   "cell_type": "code",
   "execution_count": 45,
   "id": "faa1cbe5-8220-4d5f-a5a7-0575be4df894",
   "metadata": {},
   "outputs": [],
   "source": [
    "output_scaling = xr.open_dataset(\"Climsim_info/output_scale.nc\")\n",
    "\n",
    "oscaling  = output_scaling[dutils.v1_outputs].to_stacked_array('mlvar', sample_dims='').values"
   ]
  },
  {
   "cell_type": "code",
   "execution_count": 52,
   "id": "ce58da2b-6f86-4abe-bb1a-115ebc28f25e",
   "metadata": {},
   "outputs": [
    {
     "name": "stderr",
     "output_type": "stream",
     "text": [
      "/tmp/ipykernel_626/3185387537.py:2: RuntimeWarning: divide by zero encountered in divide\n",
      "  y_scale_test = 1./ y_avg\n"
     ]
    }
   ],
   "source": [
    "y_avg = y_npy.mean(axis=0)\n",
    "y_scale_test = 1./ y_avg"
   ]
  },
  {
   "cell_type": "code",
   "execution_count": 54,
   "id": "90e711ff-f4f4-4ef9-b0cc-aee3f8ae8828",
   "metadata": {},
   "outputs": [
    {
     "data": {
      "text/plain": [
       "array([ 1.19014050e-05, -1.13608688e-05, -5.22001272e-06, -1.83795208e-06,\n",
       "       -1.83506310e-06,  7.04202705e-07,  1.36045056e-06,  8.66873477e-07,\n",
       "        1.65614915e-08, -9.96006355e-08,  3.42032446e-07,  5.19593379e-07,\n",
       "        6.27532105e-07,  6.53872793e-07,  7.57789509e-07,  1.05315910e-06,\n",
       "        1.64673863e-06,  1.35920795e-06,  6.38992441e-07, -5.41416933e-07,\n",
       "       -6.43335666e-09, -2.26299367e-06, -3.69347862e-06, -5.13319715e-06,\n",
       "       -6.32380659e-06, -6.27994870e-06, -5.32568580e-06, -4.25518677e-06,\n",
       "       -3.33941632e-06, -2.52159343e-06, -1.73624515e-06, -1.34164169e-06,\n",
       "       -6.12715034e-07,  1.00480138e-07,  6.40130091e-07,  8.57316853e-07,\n",
       "        1.44235977e-06,  1.70224506e-06,  1.48805081e-06,  1.39098697e-06,\n",
       "        1.65367745e-06,  2.02146425e-06,  1.71443179e-06,  1.11403501e-06,\n",
       "        1.36902466e-06,  1.54391288e-06,  2.10816170e-06,  3.53536307e-06,\n",
       "        4.23332185e-06,  5.19102267e-06,  4.95795627e-06,  6.65066905e-06,\n",
       "        7.07406187e-06,  7.04704319e-06,  6.81361971e-06,  5.02744653e-06,\n",
       "        1.74850084e-06, -6.08895689e-06, -2.34674258e-05, -6.52816062e-05,\n",
       "        0.00000000e+00,  3.42487805e-17, -1.92951478e-17,  0.00000000e+00,\n",
       "        0.00000000e+00,  0.00000000e+00,  0.00000000e+00,  0.00000000e+00,\n",
       "        0.00000000e+00,  0.00000000e+00,  0.00000000e+00,  0.00000000e+00,\n",
       "        5.59569980e-15,  2.09903960e-14,  1.41260954e-14, -9.69391132e-14,\n",
       "       -2.23783097e-14,  5.66304744e-14,  2.98244264e-13, -9.11695042e-13,\n",
       "       -3.83877632e-12, -1.99715229e-11, -6.65907504e-11, -1.70433851e-10,\n",
       "       -3.37685259e-10, -6.36127252e-10, -1.07322817e-09, -1.48183615e-09,\n",
       "       -1.83294524e-09, -2.12384513e-09, -2.45151331e-09, -2.65861722e-09,\n",
       "       -2.64534082e-09, -2.75214343e-09, -2.59479823e-09, -2.48037384e-09,\n",
       "       -2.56272552e-09, -2.82092805e-09, -2.44316448e-09, -1.54777673e-09,\n",
       "       -1.05937455e-09, -1.45883524e-09, -8.69851768e-10,  3.92377600e-10,\n",
       "        9.43932088e-10,  1.27358610e-09,  9.37327622e-10,  4.74519163e-10,\n",
       "       -8.52002995e-10, -1.52038732e-09, -2.99015730e-09, -5.80841850e-09,\n",
       "       -1.00458565e-08, -1.39628847e-08, -1.83768276e-08, -2.10812176e-08,\n",
       "       -2.23136238e-08, -2.01179169e-08, -1.85398054e-08, -1.41801332e-08,\n",
       "        1.63811935e+02,  3.43382784e+02,  3.32944432e-09,  3.05634114e-08,\n",
       "        6.55184533e+01,  7.15886505e+01,  3.40760017e+01,  1.80094840e+01])"
      ]
     },
     "execution_count": 54,
     "metadata": {},
     "output_type": "execute_result"
    }
   ],
   "source": [
    "y_avg"
   ]
  },
  {
   "cell_type": "code",
   "execution_count": 53,
   "id": "e6260b40-70b2-4fc7-aaad-09aa41c1b405",
   "metadata": {},
   "outputs": [
    {
     "data": {
      "text/plain": [
       "array([ 8.40236928e+04, -8.80214374e+04, -1.91570414e+05, -5.44083826e+05,\n",
       "       -5.44940390e+05,  1.42004567e+06,  7.35050598e+05,  1.15357088e+06,\n",
       "        6.03810352e+07, -1.00400966e+07,  2.92369923e+06,  1.92458187e+06,\n",
       "        1.59354397e+06,  1.52934945e+06,  1.31962767e+06,  9.49524147e+05,\n",
       "        6.07260911e+05,  7.35722592e+05,  1.56496374e+06, -1.84700540e+06,\n",
       "       -1.55439851e+08, -4.41892530e+05, -2.70747472e+05, -1.94810363e+05,\n",
       "       -1.58132604e+05, -1.59236969e+05, -1.87769245e+05, -2.35007311e+05,\n",
       "       -2.99453528e+05, -3.96574637e+05, -5.75955532e+05, -7.45355490e+05,\n",
       "       -1.63208008e+06,  9.95221566e+06,  1.56218246e+06,  1.16642989e+06,\n",
       "        6.93308299e+05,  5.87459482e+05,  6.72020063e+05,  7.18913996e+05,\n",
       "        6.04712847e+05,  4.94690916e+05,  5.83283632e+05,  8.97637854e+05,\n",
       "        7.30447030e+05,  6.47704940e+05,  4.74346915e+05,  2.82856380e+05,\n",
       "        2.36221113e+05,  1.92640268e+05,  2.01696010e+05,  1.50360812e+05,\n",
       "        1.41361500e+05,  1.41903487e+05,  1.46764868e+05,  1.98908133e+05,\n",
       "        5.71918514e+05, -1.64231743e+05, -4.26122580e+04, -1.53182505e+04,\n",
       "                   inf,  2.91981199e+16, -5.18265012e+16,             inf,\n",
       "                   inf,             inf,             inf,             inf,\n",
       "                   inf,             inf,             inf,             inf,\n",
       "        1.78708658e+14,  4.76408353e+13,  7.07909705e+13, -1.03157535e+13,\n",
       "       -4.46861275e+13,  1.76583370e+13,  3.35295636e+12, -1.09685800e+12,\n",
       "       -2.60499679e+11, -5.00712943e+10, -1.50171006e+10, -5.86737900e+09,\n",
       "       -2.96133744e+09, -1.57201251e+09, -9.31768316e+08, -6.74838445e+08,\n",
       "       -5.45570036e+08, -4.70844125e+08, -4.07911308e+08, -3.76135381e+08,\n",
       "       -3.78023123e+08, -3.63353156e+08, -3.85386420e+08, -4.03165033e+08,\n",
       "       -3.90209562e+08, -3.54493267e+08, -4.09305229e+08, -6.46088020e+08,\n",
       "       -9.43953201e+08, -6.85478371e+08, -1.14962116e+09,  2.54856546e+09,\n",
       "        1.05939825e+09,  7.85184449e+08,  1.06686283e+09,  2.10739645e+09,\n",
       "       -1.17370479e+09, -6.57727136e+08, -3.34430567e+08, -1.72163903e+08,\n",
       "       -9.95435282e+07, -7.16184384e+07, -5.44163563e+07, -4.74355902e+07,\n",
       "       -4.48156699e+07, -4.97069357e+07, -5.39379988e+07, -7.05211995e+07,\n",
       "        6.10456131e-03,  2.91220191e-03,  3.00350420e+08,  3.27188606e+07,\n",
       "        1.52628756e-02,  1.39686947e-02,  2.93461660e-02,  5.55262993e-02])"
      ]
     },
     "execution_count": 53,
     "metadata": {},
     "output_type": "execute_result"
    }
   ],
   "source": [
    "y_scale_test"
   ]
  },
  {
   "cell_type": "code",
   "execution_count": 56,
   "id": "be3949d3-6d80-44e1-9074-b804ead8cba9",
   "metadata": {},
   "outputs": [
    {
     "data": {
      "text/plain": [
       "[<matplotlib.lines.Line2D at 0x7cdee9f35a90>]"
      ]
     },
     "execution_count": 56,
     "metadata": {},
     "output_type": "execute_result"
    },
    {
     "data": {
      "image/png": "[encoded data removed]",
      "text/plain": [
       "<Figure size 640x480 with 1 Axes>"
      ]
     },
     "metadata": {},
     "output_type": "display_data"
    }
   ],
   "source": [
    "plt.plot(np.arange(60), oscaling[60:120])\n",
    "#plt.plot(np.arange(60), y_scale_test[60:120])"
   ]
  },
  {
   "cell_type": "code",
   "execution_count": 33,
   "id": "d2ab9c48-e024-4983-b1e2-ccc211c01c16",
   "metadata": {},
   "outputs": [
    {
     "data": {
      "text/plain": [
       "ValuesView(<xarray.Dataset> Size: 1kB\n",
       "Dimensions:         (lev: 60)\n",
       "Dimensions without coordinates: lev\n",
       "Data variables:\n",
       "    ptend_t         (lev) float64 480B ...\n",
       "    ptend_q0001     (lev) float64 480B ...\n",
       "    cam_out_NETSW   float64 8B ...\n",
       "    cam_out_FLWDS   float64 8B ...\n",
       "    cam_out_PRECSC  float64 8B ...\n",
       "    cam_out_PRECC   float64 8B ...\n",
       "    cam_out_SOLS    float64 8B ...\n",
       "    cam_out_SOLL    float64 8B ...\n",
       "    cam_out_SOLSD   float64 8B ...\n",
       "    cam_out_SOLLD   float64 8B ...)"
      ]
     },
     "execution_count": 33,
     "metadata": {},
     "output_type": "execute_result"
    }
   ],
   "source": [
    "oscaling.values()"
   ]
  },
  {
   "cell_type": "markdown",
   "id": "8acf1086-477d-4e19-a841-8fac3525bd49",
   "metadata": {},
   "source": [
    "## Evaluating"
   ]
  },
  {
   "cell_type": "code",
   "execution_count": 19,
   "id": "b7063ef0-3e68-41d4-854c-e0ac4976364c",
   "metadata": {},
   "outputs": [],
   "source": [
    "from climsim_data_utils import data_utils, load_vars, setup_data_utils\n",
    "from climsim_data_utils import *"
   ]
  },
  {
   "cell_type": "code",
   "execution_count": 21,
   "id": "b516aa40-64f8-4838-adb6-2125a4fdbc78",
   "metadata": {},
   "outputs": [],
   "source": [
    "def setup_data_utils(ds_type='aquaplanet', data_source='gcsfs', data_vars='v1', **kwargs):\n",
    "    # data source is either a google cloud bucket, local file path, or tries to load directly from Huggingface\n",
    "    ds_type = expand_ds_name(ds_type)\n",
    "    if('grid_info' in kwargs):\n",
    "        grid_info = kwargs['grid_info']\n",
    "    else:\n",
    "        grid_url = f\"https://huggingface.co/datasets/LEAP/{ds_type}/resolve/main/{ds_type}_grid-info.nc\"\n",
    "        grid_info = read_url_xarray(grid_url)\n",
    "        \n",
    "    data = data_utils(data_source, ds_type, grid_info.compute())\n",
    "    if(data_source == 'hf'):\n",
    "        data.data_path = f\"https://huggingface.co/datasets/LEAP/{ds_type}/resolve/main/train/\"\n",
    "    elif(data_source == 'local' or data_source == \"gcsfs\"):\n",
    "        #assert 'base_dir' in kwargs, \"Need to provide base path via base_dir arg\"\n",
    "        if(\"base_dir\" in kwargs):\n",
    "            data.data_path = kwargs[base_dir]\n",
    "    else:\n",
    "        print(\"Invalid data source, must be hf, local, or gcsfs\")\n",
    "    if(data_vars == 'v1'):\n",
    "        data.set_to_v1_vars()\n",
    "    elif(data_vars == 'v2'):\n",
    "        data.set_to_v2_vars()\n",
    "\n",
    "\n",
    "    input_mean = xr.open_dataset('Climsim_info/input_mean.nc')\n",
    "    input_max = xr.open_dataset('Climsim_info/input_max.nc')\n",
    "    input_min = xr.open_dataset('Climsim_info/input_min.nc')\n",
    "    output_scale = xr.open_dataset('Climsim_info/output_scale.nc')\n",
    "    data.set_norm_info(input_mean, input_max, input_min, output_scale)\n",
    "            \n",
    "    \n",
    "    return(data)"
   ]
  },
  {
   "cell_type": "code",
   "execution_count": 22,
   "id": "06a348a9-0011-49c8-b6c1-3185c79ba07b",
   "metadata": {},
   "outputs": [],
   "source": [
    "mapper = fs.get_mapper(\"gs://leap-persistent-ro/sungdukyu/E3SM-MMF_ne4.grid-info.zarr\")\n",
    "grid_info = xr.open_dataset(mapper, engine='zarr')\n",
    "\n",
    "dutils = setup_data_utils(grid_info=grid_info, data_vars='v1')"
   ]
  },
  {
   "cell_type": "code",
   "execution_count": 23,
   "id": "a9f3d34b-2501-4e14-801d-c09054a9b1a9",
   "metadata": {},
   "outputs": [
    {
     "data": {
      "text/plain": [
       "True"
      ]
     },
     "execution_count": 23,
     "metadata": {},
     "output_type": "execute_result"
    }
   ],
   "source": [
    "dutils.input_scoring is None"
   ]
  },
  {
   "cell_type": "markdown",
   "id": "775140d3-e69c-4bf3-8488-c3e2b645e675",
   "metadata": {},
   "source": [
    "Inspired by [Climsim guide](https://leap-stc.github.io/ClimSim/evaluation/main_figure_generation.html)"
   ]
  },
  {
   "cell_type": "code",
   "execution_count": 24,
   "id": "34947d5a-b936-4f1e-9341-308ed1772058",
   "metadata": {},
   "outputs": [],
   "source": [
    "# set variables to V1 subset\n",
    "dutils.set_to_v1_vars()\n",
    "\n",
    "dutils.input_scoring = x_test\n",
    "dutils.target_scoring = y_test\n",
    "# set pressure weights\n",
    "dutils.set_pressure_grid(data_split = 'scoring')\n",
    "\n",
    "# load model predictions\n",
    "dutils.model_names = ['fake_model', 'fake_model_2']\n",
    "predictions = {\n",
    "    'fake_model' : y_pred1, \n",
    "    'fake_model_2' : y_pred2\n",
    "}\n",
    "\n",
    "dutils.preds_scoring = predictions\n"
   ]
  },
  {
   "cell_type": "markdown",
   "id": "c379731c-7ceb-4596-993f-792403b4cae6",
   "metadata": {},
   "source": [
    "1. Undo output scaling\n",
    "2. Weight vertical levels by dp/g\n",
    "3. Weight horizontal area of each grid cell by a[x]/mean(a[x])\n",
    "4. Convert units to a common energy unit"
   ]
  },
  {
   "cell_type": "code",
   "execution_count": 25,
   "id": "7c602147-af19-4c9d-b122-241358ee2875",
   "metadata": {},
   "outputs": [
    {
     "name": "stderr",
     "output_type": "stream",
     "text": [
      "/home/jovyan/Samarth/2024/climsim_data_utils.py:1267: RuntimeWarning: divide by zero encountered in divide\n",
      "  r_squared = 1 - sq_diff.sum(axis = 0)/tss_time.sum(axis = 0) # sum over time\n",
      "/home/jovyan/Samarth/2024/climsim_data_utils.py:1267: RuntimeWarning: divide by zero encountered in divide\n",
      "  r_squared = 1 - sq_diff.sum(axis = 0)/tss_time.sum(axis = 0) # sum over time\n"
     ]
    }
   ],
   "source": [
    "dutils.reweight_target(data_split = 'scoring')\n",
    "dutils.reweight_preds(data_split = 'scoring')\n",
    "\n",
    "dutils.metrics_names = ['MAE', 'RMSE', 'R2']\n",
    "dutils.create_metrics_df(data_split = 'scoring')"
   ]
  },
  {
   "cell_type": "code",
   "execution_count": 26,
   "id": "5749cb86-cec0-4fbb-b59c-bbaedb3a7fb5",
   "metadata": {},
   "outputs": [
    {
     "data": {
      "text/plain": [
       "['fake_model', 'fake_model_2']"
      ]
     },
     "execution_count": 26,
     "metadata": {},
     "output_type": "execute_result"
    }
   ],
   "source": [
    "dutils.model_names"
   ]
  },
  {
   "cell_type": "code",
   "execution_count": 27,
   "id": "a5d1bec5-fec7-4eb7-ba5c-130143a5d72a",
   "metadata": {},
   "outputs": [
    {
     "data": {
      "text/html": [
       "<div>\n",
       "<style scoped>\n",
       "    .dataframe tbody tr th:only-of-type {\n",
       "        vertical-align: middle;\n",
       "    }\n",
       "\n",
       "    .dataframe tbody tr th {\n",
       "        vertical-align: top;\n",
       "    }\n",
       "\n",
       "    .dataframe thead th {\n",
       "        text-align: right;\n",
       "    }\n",
       "</style>\n",
       "<table border=\"1\" class=\"dataframe\">\n",
       "  <thead>\n",
       "    <tr style=\"text-align: right;\">\n",
       "      <th></th>\n",
       "      <th>MAE</th>\n",
       "      <th>RMSE</th>\n",
       "      <th>R2</th>\n",
       "    </tr>\n",
       "    <tr>\n",
       "      <th>variable</th>\n",
       "      <th></th>\n",
       "      <th></th>\n",
       "      <th></th>\n",
       "    </tr>\n",
       "  </thead>\n",
       "  <tbody>\n",
       "    <tr>\n",
       "      <th>ptend_t</th>\n",
       "      <td>0.133498</td>\n",
       "      <td>0.165918</td>\n",
       "      <td>0.87188</td>\n",
       "    </tr>\n",
       "    <tr>\n",
       "      <th>ptend_q0001</th>\n",
       "      <td>0.117729</td>\n",
       "      <td>0.146369</td>\n",
       "      <td>-inf</td>\n",
       "    </tr>\n",
       "    <tr>\n",
       "      <th>cam_out_NETSW</th>\n",
       "      <td>0.334654</td>\n",
       "      <td>0.41666</td>\n",
       "      <td>-inf</td>\n",
       "    </tr>\n",
       "    <tr>\n",
       "      <th>cam_out_FLWDS</th>\n",
       "      <td>0.160149</td>\n",
       "      <td>0.199164</td>\n",
       "      <td>0.999664</td>\n",
       "    </tr>\n",
       "    <tr>\n",
       "      <th>cam_out_PRECSC</th>\n",
       "      <td>0.161144</td>\n",
       "      <td>0.200279</td>\n",
       "      <td>-inf</td>\n",
       "    </tr>\n",
       "    <tr>\n",
       "      <th>cam_out_PRECC</th>\n",
       "      <td>1.51049</td>\n",
       "      <td>1.877517</td>\n",
       "      <td>-inf</td>\n",
       "    </tr>\n",
       "    <tr>\n",
       "      <th>cam_out_SOLS</th>\n",
       "      <td>0.158699</td>\n",
       "      <td>0.197494</td>\n",
       "      <td>-inf</td>\n",
       "    </tr>\n",
       "    <tr>\n",
       "      <th>cam_out_SOLL</th>\n",
       "      <td>0.171769</td>\n",
       "      <td>0.214642</td>\n",
       "      <td>-inf</td>\n",
       "    </tr>\n",
       "    <tr>\n",
       "      <th>cam_out_SOLSD</th>\n",
       "      <td>0.130798</td>\n",
       "      <td>0.162638</td>\n",
       "      <td>-inf</td>\n",
       "    </tr>\n",
       "    <tr>\n",
       "      <th>cam_out_SOLLD</th>\n",
       "      <td>0.083245</td>\n",
       "      <td>0.103705</td>\n",
       "      <td>-inf</td>\n",
       "    </tr>\n",
       "  </tbody>\n",
       "</table>\n",
       "</div>"
      ],
      "text/plain": [
       "                     MAE      RMSE        R2\n",
       "variable                                    \n",
       "ptend_t         0.133498  0.165918   0.87188\n",
       "ptend_q0001     0.117729  0.146369      -inf\n",
       "cam_out_NETSW   0.334654   0.41666      -inf\n",
       "cam_out_FLWDS   0.160149  0.199164  0.999664\n",
       "cam_out_PRECSC  0.161144  0.200279      -inf\n",
       "cam_out_PRECC    1.51049  1.877517      -inf\n",
       "cam_out_SOLS    0.158699  0.197494      -inf\n",
       "cam_out_SOLL    0.171769  0.214642      -inf\n",
       "cam_out_SOLSD   0.130798  0.162638      -inf\n",
       "cam_out_SOLLD   0.083245  0.103705      -inf"
      ]
     },
     "execution_count": 27,
     "metadata": {},
     "output_type": "execute_result"
    }
   ],
   "source": [
    "dutils.metrics_var_scoring['fake_model']"
   ]
  },
  {
   "cell_type": "code",
   "execution_count": 31,
   "id": "68e0b1fa-826f-452b-b537-18a4435934be",
   "metadata": {},
   "outputs": [
    {
     "data": {
      "text/html": [
       "<div>\n",
       "<style scoped>\n",
       "    .dataframe tbody tr th:only-of-type {\n",
       "        vertical-align: middle;\n",
       "    }\n",
       "\n",
       "    .dataframe tbody tr th {\n",
       "        vertical-align: top;\n",
       "    }\n",
       "\n",
       "    .dataframe thead th {\n",
       "        text-align: right;\n",
       "    }\n",
       "</style>\n",
       "<table border=\"1\" class=\"dataframe\">\n",
       "  <thead>\n",
       "    <tr style=\"text-align: right;\">\n",
       "      <th></th>\n",
       "      <th>MAE</th>\n",
       "      <th>RMSE</th>\n",
       "      <th>R2</th>\n",
       "    </tr>\n",
       "    <tr>\n",
       "      <th>variable</th>\n",
       "      <th></th>\n",
       "      <th></th>\n",
       "      <th></th>\n",
       "    </tr>\n",
       "  </thead>\n",
       "  <tbody>\n",
       "    <tr>\n",
       "      <th>ptend_t</th>\n",
       "      <td>53.524392</td>\n",
       "      <td>66.504104</td>\n",
       "      <td>-20675.23643</td>\n",
       "    </tr>\n",
       "    <tr>\n",
       "      <th>ptend_q0001</th>\n",
       "      <td>47.195209</td>\n",
       "      <td>58.636937</td>\n",
       "      <td>-inf</td>\n",
       "    </tr>\n",
       "    <tr>\n",
       "      <th>cam_out_NETSW</th>\n",
       "      <td>133.711817</td>\n",
       "      <td>165.237406</td>\n",
       "      <td>-inf</td>\n",
       "    </tr>\n",
       "    <tr>\n",
       "      <th>cam_out_FLWDS</th>\n",
       "      <td>62.48986</td>\n",
       "      <td>77.847823</td>\n",
       "      <td>-48.521115</td>\n",
       "    </tr>\n",
       "    <tr>\n",
       "      <th>cam_out_PRECSC</th>\n",
       "      <td>64.595863</td>\n",
       "      <td>80.611717</td>\n",
       "      <td>-inf</td>\n",
       "    </tr>\n",
       "    <tr>\n",
       "      <th>cam_out_PRECC</th>\n",
       "      <td>615.071302</td>\n",
       "      <td>760.312131</td>\n",
       "      <td>-inf</td>\n",
       "    </tr>\n",
       "    <tr>\n",
       "      <th>cam_out_SOLS</th>\n",
       "      <td>63.500213</td>\n",
       "      <td>79.138954</td>\n",
       "      <td>-inf</td>\n",
       "    </tr>\n",
       "    <tr>\n",
       "      <th>cam_out_SOLL</th>\n",
       "      <td>68.836698</td>\n",
       "      <td>85.51523</td>\n",
       "      <td>-inf</td>\n",
       "    </tr>\n",
       "    <tr>\n",
       "      <th>cam_out_SOLSD</th>\n",
       "      <td>52.464927</td>\n",
       "      <td>65.637407</td>\n",
       "      <td>-inf</td>\n",
       "    </tr>\n",
       "    <tr>\n",
       "      <th>cam_out_SOLLD</th>\n",
       "      <td>33.614817</td>\n",
       "      <td>41.805703</td>\n",
       "      <td>-inf</td>\n",
       "    </tr>\n",
       "  </tbody>\n",
       "</table>\n",
       "</div>"
      ],
      "text/plain": [
       "                       MAE        RMSE           R2\n",
       "variable                                           \n",
       "ptend_t          53.524392   66.504104 -20675.23643\n",
       "ptend_q0001      47.195209   58.636937         -inf\n",
       "cam_out_NETSW   133.711817  165.237406         -inf\n",
       "cam_out_FLWDS     62.48986   77.847823   -48.521115\n",
       "cam_out_PRECSC   64.595863   80.611717         -inf\n",
       "cam_out_PRECC   615.071302  760.312131         -inf\n",
       "cam_out_SOLS     63.500213   79.138954         -inf\n",
       "cam_out_SOLL     68.836698    85.51523         -inf\n",
       "cam_out_SOLSD    52.464927   65.637407         -inf\n",
       "cam_out_SOLLD    33.614817   41.805703         -inf"
      ]
     },
     "execution_count": 31,
     "metadata": {},
     "output_type": "execute_result"
    }
   ],
   "source": [
    "dutils.metrics_var_scoring['fake_model_2']"
   ]
  },
  {
   "cell_type": "code",
   "execution_count": 28,
   "id": "66145833-3fd5-41e8-9a69-b805a13f0bf1",
   "metadata": {},
   "outputs": [
    {
     "data": {
      "text/html": [
       "<div>\n",
       "<style scoped>\n",
       "    .dataframe tbody tr th:only-of-type {\n",
       "        vertical-align: middle;\n",
       "    }\n",
       "\n",
       "    .dataframe tbody tr th {\n",
       "        vertical-align: top;\n",
       "    }\n",
       "\n",
       "    .dataframe thead th {\n",
       "        text-align: right;\n",
       "    }\n",
       "</style>\n",
       "<table border=\"1\" class=\"dataframe\">\n",
       "  <thead>\n",
       "    <tr style=\"text-align: right;\">\n",
       "      <th></th>\n",
       "      <th>MAE</th>\n",
       "      <th>RMSE</th>\n",
       "      <th>R2</th>\n",
       "    </tr>\n",
       "    <tr>\n",
       "      <th>output_idx</th>\n",
       "      <th></th>\n",
       "      <th></th>\n",
       "      <th></th>\n",
       "    </tr>\n",
       "  </thead>\n",
       "  <tbody>\n",
       "    <tr>\n",
       "      <th>0</th>\n",
       "      <td>0.000367</td>\n",
       "      <td>0.000456</td>\n",
       "      <td>0.96964</td>\n",
       "    </tr>\n",
       "    <tr>\n",
       "      <th>1</th>\n",
       "      <td>0.000656</td>\n",
       "      <td>0.000818</td>\n",
       "      <td>0.995107</td>\n",
       "    </tr>\n",
       "    <tr>\n",
       "      <th>2</th>\n",
       "      <td>0.001162</td>\n",
       "      <td>0.001447</td>\n",
       "      <td>0.986604</td>\n",
       "    </tr>\n",
       "    <tr>\n",
       "      <th>3</th>\n",
       "      <td>0.002043</td>\n",
       "      <td>0.002541</td>\n",
       "      <td>0.975119</td>\n",
       "    </tr>\n",
       "    <tr>\n",
       "      <th>4</th>\n",
       "      <td>0.003476</td>\n",
       "      <td>0.004299</td>\n",
       "      <td>0.967756</td>\n",
       "    </tr>\n",
       "    <tr>\n",
       "      <th>...</th>\n",
       "      <td>...</td>\n",
       "      <td>...</td>\n",
       "      <td>...</td>\n",
       "    </tr>\n",
       "    <tr>\n",
       "      <th>123</th>\n",
       "      <td>1.51049</td>\n",
       "      <td>1.877517</td>\n",
       "      <td>-inf</td>\n",
       "    </tr>\n",
       "    <tr>\n",
       "      <th>124</th>\n",
       "      <td>0.158699</td>\n",
       "      <td>0.197494</td>\n",
       "      <td>-inf</td>\n",
       "    </tr>\n",
       "    <tr>\n",
       "      <th>125</th>\n",
       "      <td>0.171769</td>\n",
       "      <td>0.214642</td>\n",
       "      <td>-inf</td>\n",
       "    </tr>\n",
       "    <tr>\n",
       "      <th>126</th>\n",
       "      <td>0.130798</td>\n",
       "      <td>0.162638</td>\n",
       "      <td>-inf</td>\n",
       "    </tr>\n",
       "    <tr>\n",
       "      <th>127</th>\n",
       "      <td>0.083245</td>\n",
       "      <td>0.103705</td>\n",
       "      <td>-inf</td>\n",
       "    </tr>\n",
       "  </tbody>\n",
       "</table>\n",
       "<p>128 rows × 3 columns</p>\n",
       "</div>"
      ],
      "text/plain": [
       "                 MAE      RMSE        R2\n",
       "output_idx                              \n",
       "0           0.000367  0.000456   0.96964\n",
       "1           0.000656  0.000818  0.995107\n",
       "2           0.001162  0.001447  0.986604\n",
       "3           0.002043  0.002541  0.975119\n",
       "4           0.003476  0.004299  0.967756\n",
       "...              ...       ...       ...\n",
       "123          1.51049  1.877517      -inf\n",
       "124         0.158699  0.197494      -inf\n",
       "125         0.171769  0.214642      -inf\n",
       "126         0.130798  0.162638      -inf\n",
       "127         0.083245  0.103705      -inf\n",
       "\n",
       "[128 rows x 3 columns]"
      ]
     },
     "execution_count": 28,
     "metadata": {},
     "output_type": "execute_result"
    }
   ],
   "source": [
    "dutils.metrics_idx_scoring['fake_model']"
   ]
  },
  {
   "cell_type": "code",
   "execution_count": null,
   "id": "92463bc4-714c-4e9b-b8dd-60df2bb83b81",
   "metadata": {},
   "outputs": [],
   "source": []
  }
 ],
 "metadata": {
  "kernelspec": {
   "display_name": "Python 3 (ipykernel)",
   "language": "python",
   "name": "python3"
  },
  "language_info": {
   "codemirror_mode": {
    "name": "ipython",
    "version": 3
   },
   "file_extension": ".py",
   "mimetype": "text/x-python",
   "name": "python",
   "nbconvert_exporter": "python",
   "pygments_lexer": "ipython3",
   "version": "3.11.9"
  }
 },
 "nbformat": 4,
 "nbformat_minor": 5
}
