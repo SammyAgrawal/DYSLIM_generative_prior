{
 "cells": [
  {
   "cell_type": "markdown",
   "id": "795f1475-46cd-487a-8834-f811541787c7",
   "metadata": {},
   "source": [
    "[Diffusers](https://colab.research.google.com/github/huggingface/notebooks/blob/main/diffusers/diffusers_intro.ipynb)\n",
    "\n",
    "[Diffusers Quicktour](https://huggingface.co/docs/diffusers/en/quicktour)"
   ]
  },
  {
   "cell_type": "code",
   "execution_count": 1,
   "id": "41439df0-7656-4b86-921a-5721f6bd1d85",
   "metadata": {},
   "outputs": [],
   "source": [
    "import numpy as np\n",
    "import torch\n",
    "from torch import nn\n",
    "from torch.utils.data import Dataset, DataLoader\n",
    "\n",
    "import os"
   ]
  },
  {
   "cell_type": "code",
   "execution_count": 5,
   "id": "0e616193-d934-4d75-a453-e1796db24162",
   "metadata": {},
   "outputs": [],
   "source": [
    "import gcsfs\n",
    "fs = gcsfs.GCSFileSystem()"
   ]
  },
  {
   "cell_type": "markdown",
   "id": "3e2c6c46-bbe3-45b4-91f4-8d90c6391908",
   "metadata": {},
   "source": [
    "## Dataloader"
   ]
  },
  {
   "cell_type": "code",
   "execution_count": 16,
   "id": "6e4b6e59-6133-4318-897e-2a583a4b57aa",
   "metadata": {},
   "outputs": [],
   "source": [
    "batch_size = 32\n",
    "shuffle_data = True"
   ]
  },
  {
   "cell_type": "code",
   "execution_count": 6,
   "id": "30c33492-933b-4406-9a58-1ea2ff98bbc8",
   "metadata": {},
   "outputs": [
    {
     "data": {
      "text/plain": [
       "['leap-scratch/sammyagrawal/aquaplanet_in_1',\n",
       " 'leap-scratch/sammyagrawal/aquaplanet_in_1.zarr',\n",
       " 'leap-scratch/sammyagrawal/aquaplanet_in_2.zarr',\n",
       " 'leap-scratch/sammyagrawal/aquaplanet_in_3.zarr',\n",
       " 'leap-scratch/sammyagrawal/aquaplanet_out_2.zarr',\n",
       " 'leap-scratch/sammyagrawal/aquaplanet_out_3.zarr',\n",
       " 'leap-scratch/sammyagrawal/input_climsim.npy',\n",
       " 'leap-scratch/sammyagrawal/output_climsim.npy']"
      ]
     },
     "execution_count": 6,
     "metadata": {},
     "output_type": "execute_result"
    }
   ],
   "source": [
    "user_path = \"gs://leap-scratch/sammyagrawal\"\n",
    "fs.ls(user_path)"
   ]
  },
  {
   "cell_type": "code",
   "execution_count": 7,
   "id": "05c586eb-038a-4c3f-a95c-7ec4a9a862be",
   "metadata": {},
   "outputs": [],
   "source": [
    "with fs.open(os.path.join(user_path, \"input_climsim.npy\"), 'rb') as f:\n",
    "    X_npy = np.load(f)\n",
    "with fs.open(os.path.join(user_path, \"output_climsim.npy\"), 'rb') as f:\n",
    "    Y_npy = np.load(f)\n"
   ]
  },
  {
   "cell_type": "code",
   "execution_count": null,
   "id": "a4a0925b-058e-4327-8d2d-facb26d412e2",
   "metadata": {},
   "outputs": [],
   "source": [
    "from sklearn.model_selection import train_test_split\n",
    "X_train, X_tst, y_train, y_tst = train_test_split(X_npy, Y_npy, test_size=0.3)\n",
    "X_val, X_test, y_val, y_test = train_test_split(X_tst, y_tst, test_size=0.5)"
   ]
  },
  {
   "cell_type": "code",
   "execution_count": null,
   "id": "4435c479-bb21-487f-8937-aeb3ca14f9dd",
   "metadata": {},
   "outputs": [],
   "source": [
    "X_npy"
   ]
  },
  {
   "cell_type": "code",
   "execution_count": 13,
   "id": "949a51e0-08ee-413a-b1af-867f2cbed213",
   "metadata": {},
   "outputs": [],
   "source": [
    "class ClimsimDataset(Dataset):\n",
    "    def __init__(self, input_npy, output_npy):\n",
    "        self.device = \"cuda\" if torch.cuda.is_available() else \"cpu\"\n",
    "        self.X = torch.tensor(input_npy, device=self.device, dtype=torch.float32)\n",
    "        self.Y = torch.tensor(output_npy, device=self.device, dtype=torch.float32)\n",
    "        assert self.X.shape[0] == self.Y.shape[0], \"Number of samples does not match\"\n",
    "\n",
    "    def __len__(self):\n",
    "        return(X.shape[0])\n",
    "\n",
    "    def __getitem__(self, idx):\n",
    "        return(self.X[idx], self.Y[idx])"
   ]
  },
  {
   "cell_type": "code",
   "execution_count": 14,
   "id": "cc6a8383-ba76-4ea9-86ec-387e970a7b7a",
   "metadata": {},
   "outputs": [],
   "source": [
    "train_ds = ClimsimDataset(X_npy, Y_npy)"
   ]
  },
  {
   "cell_type": "code",
   "execution_count": 15,
   "id": "3f0caad0-1c36-44fc-ad5a-b516820b4cc2",
   "metadata": {},
   "outputs": [
    {
     "name": "stdout",
     "output_type": "stream",
     "text": [
      "CPU times: user 149 μs, sys: 38 μs, total: 187 μs\n",
      "Wall time: 193 μs\n"
     ]
    },
    {
     "data": {
      "text/plain": [
       "(tensor([2.1850e+02, 2.3478e+02, 2.4224e+02, 2.5092e+02, 2.5916e+02, 2.6575e+02,\n",
       "         2.6545e+02, 2.5751e+02, 2.4577e+02, 2.3765e+02, 2.3161e+02, 2.2734e+02,\n",
       "         2.2404e+02, 2.2101e+02, 2.1757e+02, 2.1354e+02, 2.0922e+02, 2.0694e+02,\n",
       "         2.0351e+02, 2.0360e+02, 2.0340e+02, 2.0598e+02, 2.0900e+02, 2.1271e+02,\n",
       "         2.1670e+02, 2.2074e+02, 2.2472e+02, 2.2858e+02, 2.3228e+02, 2.3585e+02,\n",
       "         2.3934e+02, 2.4267e+02, 2.4585e+02, 2.4889e+02, 2.5178e+02, 2.5449e+02,\n",
       "         2.5729e+02, 2.5999e+02, 2.6255e+02, 2.6483e+02, 2.6693e+02, 2.6887e+02,\n",
       "         2.7072e+02, 2.7240e+02, 2.7383e+02, 2.7517e+02, 2.7634e+02, 2.7724e+02,\n",
       "         2.7825e+02, 2.7938e+02, 2.8025e+02, 2.8112e+02, 2.8201e+02, 2.8277e+02,\n",
       "         2.8359e+02, 2.8443e+02, 2.8531e+02, 2.8613e+02, 2.8683e+02, 2.8782e+02,\n",
       "         1.5264e-06, 1.5171e-06, 1.5060e-06, 1.5031e-06, 1.4913e-06, 1.4880e-06,\n",
       "         1.5005e-06, 1.5142e-06, 1.5336e-06, 1.5127e-06, 1.3748e-06, 1.2566e-06,\n",
       "         1.2185e-06, 1.2256e-06, 1.2397e-06, 1.2616e-06, 1.2763e-06, 1.2977e-06,\n",
       "         2.0917e-06, 5.2363e-06, 9.1477e-06, 1.2252e-05, 1.7824e-05, 3.0839e-05,\n",
       "         4.8593e-05, 7.3930e-05, 1.1156e-04, 1.6335e-04, 2.3162e-04, 3.1980e-04,\n",
       "         4.3148e-04, 5.6845e-04, 7.4029e-04, 9.3950e-04, 1.1650e-03, 1.4308e-03,\n",
       "         1.7628e-03, 2.1197e-03, 2.4813e-03, 2.8642e-03, 3.1253e-03, 3.4134e-03,\n",
       "         3.6832e-03, 3.9456e-03, 4.2214e-03, 4.5041e-03, 4.9676e-03, 5.5718e-03,\n",
       "         5.9421e-03, 6.1773e-03, 6.4322e-03, 6.6995e-03, 6.9533e-03, 7.3290e-03,\n",
       "         7.6094e-03, 7.9209e-03, 8.1791e-03, 8.4844e-03, 8.9250e-03, 9.2542e-03,\n",
       "         1.0115e+05, 1.2974e+03, 1.5947e+01, 1.4031e+00]),\n",
       " tensor([ 4.4336e-05,  1.8265e-05,  4.0930e-05,  6.7892e-05,  1.0759e-04,\n",
       "          1.5448e-04,  1.7542e-04,  1.4469e-04,  8.7672e-05,  6.5141e-05,\n",
       "          4.8910e-05,  3.6521e-05,  2.5895e-05,  1.7368e-05,  1.1312e-05,\n",
       "          8.5504e-06,  6.8579e-06,  6.9259e-06,  2.1602e-06,  2.9941e-06,\n",
       "          4.0969e-06,  2.0776e-06, -1.2043e-06, -5.3391e-06, -4.3013e-06,\n",
       "         -2.8850e-06,  5.8263e-07,  2.0982e-06,  5.3307e-06,  7.7008e-06,\n",
       "          1.9310e-05,  2.8706e-05,  3.4726e-05,  3.7235e-05,  2.8813e-05,\n",
       "          6.2541e-06, -9.5252e-06,  1.2477e-05, -1.2758e-05, -3.7346e-05,\n",
       "         -1.7517e-05, -1.5962e-05, -1.7845e-05,  4.2172e-06, -1.5625e-05,\n",
       "          2.4054e-06,  4.3209e-05, -1.9202e-05, -2.2590e-05,  1.3661e-05,\n",
       "          5.5273e-05,  2.2194e-05, -1.4935e-05,  1.1056e-06,  1.4649e-05,\n",
       "          2.3779e-05,  3.7739e-05, -2.7731e-06,  1.4590e-05,  2.6412e-05,\n",
       "          0.0000e+00,  0.0000e+00,  0.0000e+00,  0.0000e+00,  0.0000e+00,\n",
       "          0.0000e+00,  0.0000e+00,  0.0000e+00,  0.0000e+00,  0.0000e+00,\n",
       "          0.0000e+00,  0.0000e+00,  2.5882e-14, -7.4295e-15,  1.6397e-16,\n",
       "          5.1719e-16, -1.1639e-13, -4.6651e-12,  7.1119e-12,  8.0789e-12,\n",
       "          1.1653e-11,  2.9002e-11,  1.8149e-10,  5.7560e-10,  5.0302e-10,\n",
       "          5.2055e-10, -2.9648e-10, -1.0336e-09, -1.7343e-09, -1.7228e-09,\n",
       "         -1.3825e-09, -6.9832e-10, -2.6993e-10,  3.3200e-09,  8.7016e-09,\n",
       "          1.6567e-08,  1.9298e-08,  1.4176e-08,  2.0479e-08,  2.0491e-08,\n",
       "          1.0008e-08,  1.0326e-08,  3.2697e-09,  1.3244e-09,  8.1348e-09,\n",
       "          1.1894e-08, -9.5412e-09,  1.4910e-08,  3.0249e-08,  4.0115e-09,\n",
       "         -1.5569e-08, -9.9180e-09,  1.1098e-08,  2.7590e-08,  1.1921e-08,\n",
       "         -7.6599e-09, -2.4864e-08, -6.4622e-09, -4.4186e-09, -3.6532e-08,\n",
       "          7.0146e+02,  3.5044e+02,  0.0000e+00,  6.5187e-10,  1.6203e+02,\n",
       "          1.8382e+02,  2.3567e+02,  1.5134e+02]))"
      ]
     },
     "execution_count": 15,
     "metadata": {},
     "output_type": "execute_result"
    }
   ],
   "source": [
    "%%time\n",
    "train_ds[5]"
   ]
  },
  {
   "cell_type": "code",
   "execution_count": null,
   "id": "de2d0b8c-22db-4a50-ad36-45f66b414471",
   "metadata": {},
   "outputs": [],
   "source": [
    "train_dataloader = DataLoader(train_ds, batch_size=batch_size, shuffle=shuffle_data) "
   ]
  }
 ],
 "metadata": {
  "kernelspec": {
   "display_name": "Python 3 (ipykernel)",
   "language": "python",
   "name": "python3"
  },
  "language_info": {
   "codemirror_mode": {
    "name": "ipython",
    "version": 3
   },
   "file_extension": ".py",
   "mimetype": "text/x-python",
   "name": "python",
   "nbconvert_exporter": "python",
   "pygments_lexer": "ipython3",
   "version": "3.11.9"
  }
 },
 "nbformat": 4,
 "nbformat_minor": 5
}
